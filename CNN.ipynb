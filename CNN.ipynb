{
 "cells": [
  {
   "cell_type": "code",
   "execution_count": 1,
   "metadata": {},
   "outputs": [
    {
     "name": "stderr",
     "output_type": "stream",
     "text": [
      "Using TensorFlow backend.\n"
     ]
    }
   ],
   "source": [
    "#import libraries\n",
    "from keras import models, layers\n",
    "import numpy as np\n",
    "from keras.utils import to_categorical\n",
    "import pandas as pd\n",
    "from keras.layers import Convolution2D, MaxPooling2D, Flatten, Dropout, BatchNormalization, Dense, Lambda\n",
    "from sklearn.model_selection import train_test_split\n",
    "from matplotlib import pyplot as plt\n",
    "%matplotlib inline"
   ]
  },
  {
   "cell_type": "code",
   "execution_count": 2,
   "metadata": {},
   "outputs": [],
   "source": [
    "#load data\n",
    "data = pd.read_csv('train.csv')"
   ]
  },
  {
   "cell_type": "code",
   "execution_count": 3,
   "metadata": {},
   "outputs": [],
   "source": [
    "# Modifying the values of each pixel such that they range from 0 to 1 \n",
    "# will improve the rate at which our model learns.\n",
    "df_X, df_y= data.iloc[:,1:]/255, data.iloc[:,0] \n",
    "# (n_images, x_shape, y_shape, channels)\n",
    "# channels = (1 for grayscale images) or (1 for a set of RGB-images) as input\n",
    "# n_images = -1 is the same as specifying the total number of images in the training set.\n",
    "# reshaping 784 to 28,28,1\n",
    "df_X = df_X.values.reshape(data.shape[0],28,28,1)\n",
    "# One hot encoding is a process by which categorical variables are converted \n",
    "# into a form that could be provided to ML algorithms to do a better job in prediction\n",
    "df_y = to_categorical(df_y)"
   ]
  },
  {
   "cell_type": "code",
   "execution_count": 4,
   "metadata": {},
   "outputs": [
    {
     "data": {
      "text/plain": [
       "((33600, 28, 28, 1), (33600, 10), (8400, 28, 28, 1), (8400, 10))"
      ]
     },
     "execution_count": 4,
     "metadata": {},
     "output_type": "execute_result"
    }
   ],
   "source": [
    "#splits train/test set \n",
    "train_X, val_X, train_y, val_y = train_test_split(df_X, df_y, test_size =0.2,random_state=21)\n",
    "train_X.shape, train_y.shape, val_X.shape, val_y.shape"
   ]
  },
  {
   "cell_type": "code",
   "execution_count": 5,
   "metadata": {},
   "outputs": [],
   "source": [
    "#normalize the batch manually\n",
    "mean_x = train_X.mean().astype(np.float32)\n",
    "std_x = train_X.std().astype(np.float32)"
   ]
  },
  {
   "cell_type": "code",
   "execution_count": 6,
   "metadata": {},
   "outputs": [
    {
     "name": "stdout",
     "output_type": "stream",
     "text": [
      "WARNING:tensorflow:From C:\\Users\\Admin\\Anaconda3\\lib\\site-packages\\tensorflow\\python\\framework\\op_def_library.py:263: colocate_with (from tensorflow.python.framework.ops) is deprecated and will be removed in a future version.\n",
      "Instructions for updating:\n",
      "Colocations handled automatically by placer.\n",
      "WARNING:tensorflow:From C:\\Users\\Admin\\Anaconda3\\lib\\site-packages\\keras\\backend\\tensorflow_backend.py:3445: calling dropout (from tensorflow.python.ops.nn_ops) with keep_prob is deprecated and will be removed in a future version.\n",
      "Instructions for updating:\n",
      "Please use `rate` instead of `keep_prob`. Rate should be set to `rate = 1 - keep_prob`.\n"
     ]
    }
   ],
   "source": [
    "#defining the model\n",
    "# 32,64,128,128 neurons (feature maps) \n",
    "# 3x3 feature detector \n",
    "# 2x2 pooling layers \n",
    "def cnn():\n",
    "    model = models.Sequential()\n",
    "    \n",
    "    # standard score = (x - mean) / standard deviation \n",
    "    model.add(Lambda(lambda x:(x-mean_x)/std_x,input_shape=(28,28,1)))\n",
    "    \n",
    "    model.add(Convolution2D(32,(3,3), activation = 'relu'))\n",
    "    model.add(BatchNormalization(axis=1))   \n",
    "    \n",
    "    model.add(Convolution2D(64,(3,3), activation = 'relu'))\n",
    "    model.add(MaxPooling2D())\n",
    "    \n",
    "    model.add(Convolution2D(128,(3,3), activation = 'relu'))\n",
    "    model.add(BatchNormalization(axis=1))\n",
    "    \n",
    "    model.add(Convolution2D(128,(3,3), activation = 'relu'))\n",
    "    model.add(MaxPooling2D())\n",
    "    \n",
    "    # The input to our artificial neural network must be in one dimension \n",
    "    # therefore we flatten it beforehand\n",
    "    model.add(Flatten())\n",
    "    \n",
    "    # Dense output = activation(dot(input, weight) + bias)\n",
    "    model.add(Dense(256, activation='relu'))\n",
    "    model.add(Dropout(0.4))\n",
    "    \n",
    "    model.add(Dense(256, activation='relu'))\n",
    "    model.add(Dropout(0.3))\n",
    "    \n",
    "    model.add(Dense(10, activation='softmax'))          \n",
    "    model.compile(optimizer='adam', loss='categorical_crossentropy',\n",
    "                  metrics=['accuracy'])\n",
    "    return model  \n",
    "\n",
    "cnn_model = cnn()"
   ]
  },
  {
   "cell_type": "code",
   "execution_count": 7,
   "metadata": {},
   "outputs": [
    {
     "name": "stdout",
     "output_type": "stream",
     "text": [
      "WARNING:tensorflow:From C:\\Users\\Admin\\Anaconda3\\lib\\site-packages\\tensorflow\\python\\ops\\math_ops.py:3066: to_int32 (from tensorflow.python.ops.math_ops) is deprecated and will be removed in a future version.\n",
      "Instructions for updating:\n",
      "Use tf.cast instead.\n",
      "Train on 33600 samples, validate on 8400 samples\n",
      "Epoch 1/10\n",
      "33600/33600 [==============================] - 72s 2ms/step - loss: 1.0716 - acc: 0.6669 - val_loss: 0.1503 - val_acc: 0.9571\n",
      "Epoch 2/10\n",
      "33600/33600 [==============================] - 69s 2ms/step - loss: 0.1843 - acc: 0.9445 - val_loss: 0.0742 - val_acc: 0.9781\n",
      "Epoch 3/10\n",
      "33600/33600 [==============================] - 69s 2ms/step - loss: 0.1044 - acc: 0.9682 - val_loss: 0.0555 - val_acc: 0.9843\n",
      "Epoch 4/10\n",
      "33600/33600 [==============================] - 70s 2ms/step - loss: 0.0766 - acc: 0.9781 - val_loss: 0.0486 - val_acc: 0.9865\n",
      "Epoch 5/10\n",
      "33600/33600 [==============================] - 70s 2ms/step - loss: 0.0588 - acc: 0.9818 - val_loss: 0.0424 - val_acc: 0.9875\n",
      "Epoch 6/10\n",
      "33600/33600 [==============================] - 70s 2ms/step - loss: 0.0493 - acc: 0.9848 - val_loss: 0.0428 - val_acc: 0.9887\n",
      "Epoch 7/10\n",
      "33600/33600 [==============================] - 69s 2ms/step - loss: 0.0416 - acc: 0.9880 - val_loss: 0.0333 - val_acc: 0.9919\n",
      "Epoch 8/10\n",
      "33600/33600 [==============================] - 70s 2ms/step - loss: 0.0357 - acc: 0.9890 - val_loss: 0.0327 - val_acc: 0.9914\n",
      "Epoch 9/10\n",
      "33600/33600 [==============================] - 70s 2ms/step - loss: 0.0273 - acc: 0.9916 - val_loss: 0.0310 - val_acc: 0.9913\n",
      "Epoch 10/10\n",
      "33600/33600 [==============================] - 71s 2ms/step - loss: 0.0229 - acc: 0.9926 - val_loss: 0.0315 - val_acc: 0.9925\n"
     ]
    },
    {
     "data": {
      "text/plain": [
       "<keras.callbacks.History at 0x1a42f9de710>"
      ]
     },
     "execution_count": 7,
     "metadata": {},
     "output_type": "execute_result"
    }
   ],
   "source": [
    "#fitting the model\n",
    "# The batch size is a number of samples processed before the model is updated.\n",
    "# The number of epochs is the number of complete passes through the training dataset.\n",
    "cnn_model.fit(train_X, train_y, epochs=10,batch_size=1000,validation_data=(val_X,val_y))"
   ]
  },
  {
   "cell_type": "code",
   "execution_count": 8,
   "metadata": {},
   "outputs": [
    {
     "name": "stdout",
     "output_type": "stream",
     "text": [
      "[1 4 2 ... 0 1 2]\n"
     ]
    }
   ],
   "source": [
    "#prediction\n",
    "cnn_predictions = cnn_model.predict(val_X) \n",
    "cnn_predictions = np.argmax(cnn_predictions, axis=1)\n",
    "print(cnn_predictions)"
   ]
  },
  {
   "cell_type": "code",
   "execution_count": 9,
   "metadata": {},
   "outputs": [
    {
     "data": {
      "text/plain": [
       "(8400, 2)"
      ]
     },
     "execution_count": 9,
     "metadata": {},
     "output_type": "execute_result"
    }
   ],
   "source": [
    "#OutPut\n",
    "out=pd.DataFrame({\"ImageId\": list(range(1,len(cnn_predictions)+1)),\n",
    "                         \"Label\": cnn_predictions})\n",
    "out.to_csv(\"cnn_out.csv\", index=False, header=True)\n",
    "out.shape"
   ]
  }
 ],
 "metadata": {
  "kernelspec": {
   "display_name": "Python 3",
   "language": "python",
   "name": "python3"
  },
  "language_info": {
   "codemirror_mode": {
    "name": "ipython",
    "version": 3
   },
   "file_extension": ".py",
   "mimetype": "text/x-python",
   "name": "python",
   "nbconvert_exporter": "python",
   "pygments_lexer": "ipython3",
   "version": "3.7.3"
  }
 },
 "nbformat": 4,
 "nbformat_minor": 2
}
